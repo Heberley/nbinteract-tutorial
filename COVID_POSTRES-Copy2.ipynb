{
 "cells": [
  {
   "cell_type": "code",
   "execution_count": 1,
   "metadata": {},
   "outputs": [],
   "source": [
    "'''\n",
    "@HTM\n",
    "26/02/2020\n",
    "Se realizan los descriptivos de los datos disponibles, \n",
    "se caracterizan los constraint de los datos\n",
    "'''\n",
    "#Paquetes y Librerias \n",
    "import pandas as pd\n",
    "import numpy as np\n",
    "import matplotlib.pyplot as plt\n",
    "import datetime as dt\n",
    "#import plotly as ply\n",
    "#import plotly.express as px\n",
    "from scipy.stats import mode\n",
    "from tqdm import tqdm_notebook\n",
    "import os\n",
    "import scipy as sp\n",
    "from scipy.fftpack import fft, ifft\n",
    "from scipy import signal\n",
    "#import plotly.graph_objects as go\n",
    "from scipy import stats\n",
    "import pylab\n",
    "import gc # vacia la memoria  \n",
    "import statsmodels.api as sm\n",
    "\n",
    "\n",
    "from ipywidgets import interact, interactive, fixed, interact_manual\n",
    "import ipywidgets as widgets\n",
    "\n"
   ]
  },
  {
   "cell_type": "code",
   "execution_count": 10,
   "metadata": {},
   "outputs": [],
   "source": [
    "data =pd.read_csv(\"C:/Users/htobon/OneDrive - Grupo-exito.com/Motor AB/covid_2020export.txt\");\n",
    "data2=pd.read_csv(\"C:/Users/htobon/OneDrive - Grupo-exito.com/Motor AB/covid_2020export2.txt\");\n",
    "\n",
    "data3 =pd.read_csv(\"C:/Users/htobon/OneDrive - Grupo-exito.com/Motor AB/2020 sublineas.txt\");\n",
    "data4 =pd.read_csv(\"C:/Users/htobon/OneDrive - Grupo-exito.com/Motor AB/2019 sublineas.txt\");\n",
    "\n",
    "data= pd.concat([data,data3])\n",
    "data2= pd.concat([data2,data4])\n",
    "#redefinir el conjunto de datos\n",
    "\n",
    "\n",
    "#Retirar unidades negativas\n",
    "undsfilter=data[data.und>0];\n",
    "undsfilter2=data2[data2.und>0];\n",
    "#Organizar por fecha\n",
    "undsfilter=undsfilter.sort_values(by=['TransactionDT'],ascending=True)\n",
    "undsfilter2=undsfilter2.sort_values(by=['TransactionDT'],ascending=True)"
   ]
  },
  {
   "cell_type": "code",
   "execution_count": null,
   "metadata": {},
   "outputs": [],
   "source": []
  },
  {
   "cell_type": "code",
   "execution_count": 24,
   "metadata": {},
   "outputs": [],
   "source": [
    "nombres_sl=[]\n",
    "arr_sl_name=pd.DataFrame(undsfilter, columns= ['SubLineCD','SubLineName'])\n",
    "arr_sl_name= arr_sl_name.drop_duplicates('SubLineCD')\n",
    "arrsl=arr_sl_name.to_numpy()\n",
    "#arrsl=arrsl.flatten();\n",
    "    \n",
    "for i in arrsl:\n",
    "    nombres_sl.append((i[1],i[0]))\n",
    "\n",
    "\n",
    "def nombres_categorias(subline):\n",
    "    nombres=[]\n",
    "    \n",
    "    data_hist=undsfilter[undsfilter.SubLineCD==subline];\n",
    "    arr_cat_name=pd.DataFrame(data_hist, columns= ['CategoryCD','CategoryName'])\n",
    "    arr_cat_name= arr_cat_name.drop_duplicates('CategoryCD')\n",
    "    arrcats=arr_cat_name.to_numpy()\n",
    "    \n",
    "    for i in arrcats:\n",
    "        nombres.append((i[1],i[0]))\n",
    "    return nombres\n",
    "\n",
    "#Hace el analisis en series de tiempo y devuelve el objeto con tendencia  y los otros\n",
    "def comportamiento_historico(Cat_CD):\n",
    "    #selecciono la categoría \n",
    "    data_hist=undsfilter[undsfilter.CategoryCD==Cat_CD];\n",
    "    historico=pd.DataFrame(data_hist, columns= ['und'])\n",
    "    \n",
    "    data_hist2=undsfilter2[undsfilter2.CategoryCD==Cat_CD];\n",
    "    historico2=pd.DataFrame(data_hist2, columns= ['und'])\n",
    "    \n",
    "    \n",
    "    arr_1=historico.to_numpy()\n",
    "    arr_1=arr_1.flatten()\n",
    "    \n",
    "    \n",
    "    arr_2=historico2.to_numpy()\n",
    "    arr_2=arr_2.flatten()\n",
    "    \n",
    "    return arr_1, arr_2\n",
    "\n",
    "#Muestra las compras brutas\n",
    "def plothist(Cat_CD):\n",
    "    arr20, arr19=comportamiento_historico(Cat_CD)\n",
    "    plt.plot(arr20)\n",
    "    plt.plot(arr19)\n",
    "    plt.show\n",
    "    \n",
    "    \n",
    "def time_trend(cat):\n",
    "    \n",
    "    #Le doy formato a la consulta\n",
    "    data_hist=undsfilter[undsfilter.CategoryCD==cat];\n",
    "    data_set=pd.DataFrame(data_hist, columns= ['TransactionDT','und'])\n",
    "    data_set['TransactionDT']=pd.to_datetime(data_set['TransactionDT'])\n",
    "    \n",
    "    data_set=data_set.set_index('TransactionDT')\n",
    "\n",
    "    \n",
    "    #Hago el anlisis con series de tiempo\n",
    "    decomposition1=sm.tsa.seasonal_decompose(data_set,model='additive')\n",
    "    \n",
    "    #Le doy formato a la consulta\n",
    "    data_hist=undsfilter2[undsfilter2.CategoryCD==cat];\n",
    "    data_set=pd.DataFrame(data_hist, columns= ['TransactionDT','und'])\n",
    "    data_set['TransactionDT']=pd.to_datetime(data_set['TransactionDT'])\n",
    "    \n",
    "        \n",
    "    data_set=data_set.set_index('TransactionDT')\n",
    "    #hago el analisis\n",
    "    decomposition2=sm.tsa.seasonal_decompose(data_set,model='additive')\n",
    "    \n",
    "    return decomposition1, decomposition2\n",
    "\n",
    "def plot_trend(cat):\n",
    "    \n",
    "    d1, d2 =time_trend(cat)\n",
    "    \n",
    "    data_hist=undsfilter[undsfilter.CategoryCD==cat];\n",
    "    \n",
    "    #data_val=pd.DataFrame(data_hist, columns= ['und'])\n",
    "    y_min=0\n",
    "    y_max=np.max([np.max(d1.trend),np.max(d2.trend)])\n",
    "    cat_name=pd.DataFrame(data_hist, columns= ['CategoryName'])\n",
    "    cat_name= cat_name.drop_duplicates('CategoryName')\n",
    "    arrC=cat_name.values\n",
    "\n",
    "    plt.plot(np.asarray(d1.trend), c='red',label=\"2020\")\n",
    "    plt.plot(np.asarray(d2.trend), c='blue',label=\"2019\")\n",
    "    plt.title('Gráfica de tendencias'+\" CategoryCD=\"+ str(cat)+\" \"+arrC[0,0])\n",
    "    plt.xlabel('Días')\n",
    "    plt.ylabel('Unds')\n",
    "    plt.vlines(x=40,ymin=y_min,ymax=y_max,linestyles='dashed',label=\"Aniversario\")\n",
    "    plt.vlines(x=58,ymin=y_min,ymax=y_max,linestyles='dashed')\n",
    "    plt.vlines(x=50,ymin=y_min,ymax=y_max,linestyles='solid',colors=\"g\",label=\"Covid-19\")\n",
    "    plt.vlines(x=64,ymin=y_min,ymax=y_max,linestyles='dotted',colors=\"m\",label=\"Cuarentena\")\n",
    "    plt.legend(loc='upper left')\n",
    "    "
   ]
  },
  {
   "cell_type": "code",
   "execution_count": 12,
   "metadata": {},
   "outputs": [
    {
     "data": {
      "text/plain": [
       "[('BEBIDAS CALIENT/Y ALMT.NATURIS', 92),\n",
       " ('INFORMATICA', 65),\n",
       " ('PEQUENOS ELECTRODOMESTICOS', 51),\n",
       " ('PASABOCAS', 59),\n",
       " ('AUDIO Y VIDEO', 53),\n",
       " ('CONFITERIA', 407),\n",
       " ('GRANDES ELECTRODOMESTICOS', 52),\n",
       " ('DERIVADOS LACTEOS', 83),\n",
       " ('GALLETAS Y HARINAS', 93),\n",
       " ('MEZCLAS Y BEBIDAS EN POLVO', 69),\n",
       " ('PANADERIA', 88),\n",
       " ('PANADERIA INUSTRI.Y REPOSTERIA', 81),\n",
       " ('CELULARES Y ACCESORIOS', 501),\n",
       " ('PAPELES Y ABSORBENTES', 67),\n",
       " ('CARNES FRIAS/CONGELAD/Y AREPAS', 80),\n",
       " ('DELICATESSEN', 68),\n",
       " ('SALSAS Y CONDIMENTOS', 402),\n",
       " ('ENLATADOS', 94),\n",
       " ('FRUVER', 85)]"
      ]
     },
     "execution_count": 12,
     "metadata": {},
     "output_type": "execute_result"
    }
   ],
   "source": [
    "nombres_sl"
   ]
  },
  {
   "cell_type": "code",
   "execution_count": 16,
   "metadata": {},
   "outputs": [
    {
     "data": {
      "text/plain": [
       "[('DULCES TIPICOS Y BOCADILLOS', 40267)]"
      ]
     },
     "execution_count": 16,
     "metadata": {},
     "output_type": "execute_result"
    }
   ],
   "source": [
    "nombres_categorias(402)"
   ]
  },
  {
   "cell_type": "code",
   "execution_count": 6,
   "metadata": {},
   "outputs": [
    {
     "data": {
      "text/plain": [
       "(array([42], dtype=int64),)"
      ]
     },
     "execution_count": 6,
     "metadata": {},
     "output_type": "execute_result"
    }
   ],
   "source": [
    "dates= pd.DataFrame(undsfilter, columns= ['TransactionDT'])\n",
    "dates= dates.drop_duplicates('TransactionDT')\n",
    "arrC=dates.to_numpy()\n",
    "arrC=arrC.flatten();\n",
    "\n",
    "np.where(arrC==['2020-02-27'])"
   ]
  },
  {
   "cell_type": "code",
   "execution_count": 14,
   "metadata": {},
   "outputs": [
    {
     "data": {
      "image/png": "[encoded data removed]",
      "text/plain": [
       "<Figure size 432x288 with 1 Axes>"
      ]
     },
     "metadata": {
      "needs_background": "light"
     },
     "output_type": "display_data"
    }
   ],
   "source": [
    "plot_trend(8030)"
   ]
  },
  {
   "cell_type": "code",
   "execution_count": 23,
   "metadata": {
    "scrolled": true
   },
   "outputs": [
    {
     "data": {
      "image/png": "[encoded data removed]",
      "text/plain": [
       "<Figure size 648x360 with 1 Axes>"
      ]
     },
     "metadata": {
      "needs_background": "light"
     },
     "output_type": "display_data"
    }
   ],
   "source": [
    "plot_trend(8390)"
   ]
  },
  {
   "cell_type": "code",
   "execution_count": 6,
   "metadata": {},
   "outputs": [],
   "source": [
    "def f(x):\n",
    "    plot_trend(arrcats[x])"
   ]
  },
  {
   "cell_type": "code",
   "execution_count": 7,
   "metadata": {},
   "outputs": [
    {
     "data": {
      "application/vnd.jupyter.widget-view+json": {
       "model_id": "0502c1e71d6a4a0481d3f19946d0fa98",
       "version_major": 2,
       "version_minor": 0
      },
      "text/plain": [
       "interactive(children=(IntSlider(value=0, description='x', max=19), Output()), _dom_classes=('widget-interact',…"
      ]
     },
     "metadata": {},
     "output_type": "display_data"
    }
   ],
   "source": [
    "interact(f, x=widgets.IntSlider(min=0, max=np.shape(arrcats)[0]-1, step=1, value=0));"
   ]
  },
  {
   "cell_type": "code",
   "execution_count": 27,
   "metadata": {},
   "outputs": [
    {
     "data": {
      "text/plain": [
       "20"
      ]
     },
     "execution_count": 27,
     "metadata": {},
     "output_type": "execute_result"
    }
   ],
   "source": [
    "np.shape(arrcats)[0]"
   ]
  },
  {
   "cell_type": "code",
   "execution_count": 18,
   "metadata": {},
   "outputs": [
    {
     "ename": "NameError",
     "evalue": "name 'FloatSlider' is not defined",
     "output_type": "error",
     "traceback": [
      "\u001b[1;31m---------------------------------------------------------------------------\u001b[0m",
      "\u001b[1;31mNameError\u001b[0m                                 Traceback (most recent call last)",
      "\u001b[1;32m<ipython-input-18-9694f4315012>\u001b[0m in \u001b[0;36m<module>\u001b[1;34m\u001b[0m\n\u001b[0;32m      4\u001b[0m \u001b[1;32mimport\u001b[0m \u001b[0mipywidgets\u001b[0m \u001b[1;32mas\u001b[0m \u001b[0mwidget\u001b[0m\u001b[1;33m\u001b[0m\u001b[1;33m\u001b[0m\u001b[0m\n\u001b[0;32m      5\u001b[0m \u001b[1;33m\u001b[0m\u001b[0m\n\u001b[1;32m----> 6\u001b[1;33m \u001b[0mx_widget\u001b[0m \u001b[1;33m=\u001b[0m \u001b[0mFloatSlider\u001b[0m\u001b[1;33m(\u001b[0m\u001b[0mmin\u001b[0m\u001b[1;33m=\u001b[0m\u001b[1;36m0.0\u001b[0m\u001b[1;33m,\u001b[0m \u001b[0mmax\u001b[0m\u001b[1;33m=\u001b[0m\u001b[1;36m10.0\u001b[0m\u001b[1;33m,\u001b[0m \u001b[0mstep\u001b[0m\u001b[1;33m=\u001b[0m\u001b[1;36m0.05\u001b[0m\u001b[1;33m)\u001b[0m\u001b[1;33m\u001b[0m\u001b[1;33m\u001b[0m\u001b[0m\n\u001b[0m\u001b[0;32m      7\u001b[0m \u001b[0my_widget\u001b[0m \u001b[1;33m=\u001b[0m \u001b[0mFloatSlider\u001b[0m\u001b[1;33m(\u001b[0m\u001b[0mmin\u001b[0m\u001b[1;33m=\u001b[0m\u001b[1;36m0.5\u001b[0m\u001b[1;33m,\u001b[0m \u001b[0mmax\u001b[0m\u001b[1;33m=\u001b[0m\u001b[1;36m10.0\u001b[0m\u001b[1;33m,\u001b[0m \u001b[0mstep\u001b[0m\u001b[1;33m=\u001b[0m\u001b[1;36m0.05\u001b[0m\u001b[1;33m,\u001b[0m \u001b[0mvalue\u001b[0m\u001b[1;33m=\u001b[0m\u001b[1;36m5.0\u001b[0m\u001b[1;33m)\u001b[0m\u001b[1;33m\u001b[0m\u001b[1;33m\u001b[0m\u001b[0m\n\u001b[0;32m      8\u001b[0m \u001b[1;33m\u001b[0m\u001b[0m\n",
      "\u001b[1;31mNameError\u001b[0m: name 'FloatSlider' is not defined"
     ]
    }
   ],
   "source": [
    "from IPython.display import display\n",
    "\n",
    "from ipywidgets import interact, interactive, fixed, interact_manual\n",
    "import ipywidgets as widget\n",
    "\n",
    "x_widget = FloatSlider(min=0.0, max=10.0, step=0.05)\n",
    "y_widget = FloatSlider(min=0.5, max=10.0, step=0.05, value=5.0)\n",
    "\n",
    "def update_x_range(*args):\n",
    "    x_widget.max = 2.0 * y_widget.value\n",
    "y_widget.observe(update_x_range, 'value')\n",
    "\n",
    "def printer(x, y):\n",
    "    print(x, y)\n",
    "interact(printer,x=x_widget, y=y_widget);"
   ]
  },
  {
   "cell_type": "code",
   "execution_count": 20,
   "metadata": {},
   "outputs": [
    {
     "data": {
      "application/vnd.jupyter.widget-view+json": {
       "model_id": "f72111c96d984def8e852e24c1e6c31e",
       "version_major": 2,
       "version_minor": 0
      },
      "text/plain": [
       "VBox(children=(IntSlider(value=0, continuous_update=False, description='Delayed'), IntText(value=0, descriptio…"
      ]
     },
     "metadata": {},
     "output_type": "display_data"
    }
   ],
   "source": [
    "a = widgets.IntSlider(description=\"Delayed\", continuous_update=False)\n",
    "b = widgets.IntText(description=\"Delayed\", continuous_update=False)\n",
    "c = widgets.IntSlider(description=\"Continuous\", continuous_update=True)\n",
    "d = widgets.IntText(description=\"Continuous\", continuous_update=True)\n",
    "\n",
    "widgets.link((a, 'value'), (b, 'value'))\n",
    "widgets.link((a, 'value'), (c, 'value'))\n",
    "widgets.link((a, 'value'), (d, 'value'))\n",
    "widgets.VBox([a,b,c,d])"
   ]
  },
  {
   "cell_type": "code",
   "execution_count": 27,
   "metadata": {},
   "outputs": [
    {
     "data": {
      "application/vnd.jupyter.widget-view+json": {
       "model_id": "7d9b65dc2e724a019a0f3affd1da1c4e",
       "version_major": 2,
       "version_minor": 0
      },
      "text/plain": [
       "Dropdown(description='Number:', options=(('PASABOCAS PUESTOS DE PAGO', 5920), ('FRUTOS SECOS', 5956), ('FRUTOS…"
      ]
     },
     "metadata": {},
     "output_type": "display_data"
    }
   ],
   "source": [
    "\n",
    "widgets.Dropdown(\n",
    "    options=nombres,\n",
    "    description='Number:',\n",
    "    disabled=False\n",
    ")"
   ]
  },
  {
   "cell_type": "code",
   "execution_count": 38,
   "metadata": {},
   "outputs": [
    {
     "data": {
      "application/vnd.jupyter.widget-view+json": {
       "model_id": "de39c74da2de4c59993a5ba564baec61",
       "version_major": 2,
       "version_minor": 0
      },
      "text/plain": [
       "HBox(children=(Dropdown(options=(('a', 5), ('b', 5)), value=5), Dropdown(options=(' - ',), value=' - ')))"
      ]
     },
     "metadata": {},
     "output_type": "display_data"
    }
   ],
   "source": [
    "x = widgets.Dropdown(options=[('a',5),('b',5)])\n",
    "y = widgets.Dropdown(options=[' - '])\n",
    "\n",
    "def change_x(*args):\n",
    "    \n",
    "\n",
    "    y.index = None\n",
    "    y.options=[*args]\n",
    "    \n",
    "x.observe(change_x, 'value')\n",
    "\n",
    "widgets.HBox([x,y])"
   ]
  },
  {
   "cell_type": "code",
   "execution_count": 43,
   "metadata": {},
   "outputs": [
    {
     "data": {
      "application/vnd.jupyter.widget-view+json": {
       "model_id": "8312f8edddef412faa0bf0aabd6984c3",
       "version_major": 2,
       "version_minor": 0
      },
      "text/plain": [
       "HBox(children=(Dropdown(description='Number:', index=1, options=(('One', 1), ('Two', 2), ('Three', 3)), value=…"
      ]
     },
     "metadata": {},
     "output_type": "display_data"
    },
    {
     "name": "stdout",
     "output_type": "stream",
     "text": [
      "1\n",
      "2\n",
      "3\n",
      "2\n",
      "1\n",
      "2\n",
      "1\n"
     ]
    }
   ],
   "source": [
    "f3=widgets.Dropdown(\n",
    "    options=[('One', 1), ('Two', 2), ('Three', 3)],\n",
    "    value=2,\n",
    "    description='Number:',\n",
    ")\n",
    "\n",
    "def change_f3(*args):\n",
    "    print(f3.value)\n",
    "\n",
    "f3.observe(change_f3,'value')\n",
    "widgets.HBox([f3])\n"
   ]
  },
  {
   "cell_type": "code",
   "execution_count": 173,
   "metadata": {},
   "outputs": [
    {
     "data": {
      "application/vnd.jupyter.widget-view+json": {
       "model_id": "ce52f595777d4e32969ed34607d1d767",
       "version_major": 2,
       "version_minor": 0
      },
      "text/plain": [
       "IntSlider(value=0)"
      ]
     },
     "metadata": {},
     "output_type": "display_data"
    }
   ],
   "source": [
    "from IPython.display import display\n",
    "w = widgets.IntSlider()\n",
    "display(w)"
   ]
  },
  {
   "cell_type": "code",
   "execution_count": 16,
   "metadata": {},
   "outputs": [],
   "source": [
    "data_hist=undsfilter[undsfilter.CategoryCD==2715];\n",
    "arr_cat_name=pd.DataFrame(data_hist, columns= ['CategoryCD','CategoryName'])\n",
    "arr_cat_name= arr_cat_name.drop_duplicates('CategoryCD')\n",
    "arr_Cat_name=(arr_cat_name.values).flatten()"
   ]
  },
  {
   "cell_type": "code",
   "execution_count": 18,
   "metadata": {},
   "outputs": [
    {
     "data": {
      "text/plain": [
       "'BRASIER Y TOP JUNIOR MP'"
      ]
     },
     "execution_count": 18,
     "metadata": {},
     "output_type": "execute_result"
    }
   ],
   "source": [
    "arr_Cat_name[1]"
   ]
  },
  {
   "cell_type": "code",
   "execution_count": 13,
   "metadata": {},
   "outputs": [],
   "source": [
    "def f4(Sublinea):\n",
    "    \n",
    "    y=int(Sublinea)\n",
    "    \n",
    "    nombres=nombres_categorias(y)\n",
    "    \n",
    "    interact(f2, Categoria=nombres)\n",
    "\n",
    "\n",
    "\n",
    "def f2(Categoria):\n",
    "    y=Categoria\n",
    "    plot_trend(int(y))\n"
   ]
  },
  {
   "cell_type": "code",
   "execution_count": 21,
   "metadata": {},
   "outputs": [
    {
     "data": {
      "text/plain": [
       "[('BEBIDAS CALIENT/Y ALMT.NATURIS', 92),\n",
       " ('INFORMATICA', 65),\n",
       " ('PEQUENOS ELECTRODOMESTICOS', 51),\n",
       " ('PASABOCAS', 59),\n",
       " ('AUDIO Y VIDEO', 53),\n",
       " ('CONFITERIA', 407),\n",
       " ('GRANDES ELECTRODOMESTICOS', 52),\n",
       " ('DERIVADOS LACTEOS', 83),\n",
       " ('GALLETAS Y HARINAS', 93),\n",
       " ('MEZCLAS Y BEBIDAS EN POLVO', 69),\n",
       " ('PANADERIA', 88),\n",
       " ('PANADERIA INUSTRI.Y REPOSTERIA', 81),\n",
       " ('CELULARES Y ACCESORIOS', 501),\n",
       " ('PAPELES Y ABSORBENTES', 67),\n",
       " ('CARNES FRIAS/CONGELAD/Y AREPAS', 80),\n",
       " ('DELICATESSEN', 68),\n",
       " ('SALSAS Y CONDIMENTOS', 402),\n",
       " ('ENLATADOS', 94),\n",
       " ('FRUVER', 85)]"
      ]
     },
     "execution_count": 21,
     "metadata": {},
     "output_type": "execute_result"
    }
   ],
   "source": [
    "nombres_sl"
   ]
  },
  {
   "cell_type": "code",
   "execution_count": 25,
   "metadata": {},
   "outputs": [
    {
     "data": {
      "application/vnd.jupyter.widget-view+json": {
       "model_id": "6f4bb3eb7cd347659471d7f14806480d",
       "version_major": 2,
       "version_minor": 0
      },
      "text/plain": [
       "interactive(children=(Dropdown(description='Sublinea', options=(('BEBIDAS CALIENT/Y ALMT.NATURIS', 92), ('INFO…"
      ]
     },
     "metadata": {},
     "output_type": "display_data"
    },
    {
     "data": {
      "text/plain": [
       "<function __main__.f4(Sublinea)>"
      ]
     },
     "execution_count": 25,
     "metadata": {},
     "output_type": "execute_result"
    }
   ],
   "source": [
    "interact(f4, Sublinea=nombres_sl)"
   ]
  },
  {
   "cell_type": "code",
   "execution_count": null,
   "metadata": {},
   "outputs": [],
   "source": []
  }
 ],
 "metadata": {
  "kernelspec": {
   "display_name": "Python 3",
   "language": "python",
   "name": "python3"
  },
  "language_info": {
   "codemirror_mode": {
    "name": "ipython",
    "version": 3
   },
   "file_extension": ".py",
   "mimetype": "text/x-python",
   "name": "python",
   "nbconvert_exporter": "python",
   "pygments_lexer": "ipython3",
   "version": "3.7.3"
  }
 },
 "nbformat": 4,
 "nbformat_minor": 2
}
